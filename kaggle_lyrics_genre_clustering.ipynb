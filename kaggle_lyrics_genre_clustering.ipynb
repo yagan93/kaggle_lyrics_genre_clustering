{
  "nbformat": 4,
  "nbformat_minor": 0,
  "metadata": {
    "colab": {
      "name": "Untitled20.ipynb",
      "provenance": [],
      "collapsed_sections": []
    },
    "kernelspec": {
      "name": "python3",
      "display_name": "Python 3"
    },
    "language_info": {
      "name": "python"
    },
    "accelerator": "GPU"
  },
  "cells": [
    {
      "cell_type": "code",
      "metadata": {
        "id": "NbN6EXc5LteC"
      },
      "source": [
        "!pip3 install langdetect\n",
        "from langdetect import DetectorFactory, detect\n",
        "from sklearn.feature_extraction.text import TfidfVectorizer\n",
        "from sklearn.cluster import KMeans\n",
        "from sklearn.decomposition import PCA\n",
        "from scipy.cluster.hierarchy import linkage, dendrogram\n",
        "from matplotlib import pyplot as plt\n",
        "import json\n",
        "import re \n",
        "import numpy as np\n",
        "import pandas as pd"
      ],
      "execution_count": null,
      "outputs": []
    },
    {
      "cell_type": "code",
      "metadata": {
        "id": "rjvGCEHxM1vI"
      },
      "source": [
        "with open(\"artist_lyrics_kaggle.json\", \"r\", encoding='utf-8') as json_file:\n",
        "  artist_lyrics = json.load(json_file)\n",
        "\n",
        "with open(\"artist_genre_kaggle.json\", \"r\", encoding='utf-8') as json_file:\n",
        "  artist_genre = json.load(json_file)"
      ],
      "execution_count": 2,
      "outputs": []
    },
    {
      "cell_type": "code",
      "metadata": {
        "id": "ZnUACZwbNgIq"
      },
      "source": [
        "def extract_artists_lyrics_of_file (json_file):\n",
        "  json_file_content = {}\n",
        "  for k,v in json_file.items(): \n",
        "    json_file_content[k] = ' '.join(re.findall('[A-Za-z]+', v))\n",
        "  return json_file_content\n",
        "\n",
        "def extract_genre_by_artist (json_file, artist):\n",
        "  return json_file[artist]\n",
        "\n",
        "def load_stopwords_file(txt_file):\n",
        "  stopwords_file = open(txt_file)\n",
        "  stopwords_file_content = stopwords_file.read()\n",
        "  return stopwords_file_content.splitlines()\n",
        "\n",
        "def detect_language (content):\n",
        "  # check lg iso-codes here: https://en.wikipedia.org/wiki/List_of_ISO_639-1_codes\n",
        "  return detect(content)\n",
        "\n",
        "def evaluate_tfidf_matrix (stop_words, max_features, lyrics):\n",
        "  vectorizer = TfidfVectorizer(stop_words=stop_words, max_features=max_features)\n",
        "  lyrics_tfidf_matrix = vectorizer.fit_transform(lyrics)\n",
        "  feature_names = vectorizer.get_feature_names()\n",
        "  return lyrics_tfidf_matrix, feature_names\n",
        "\n",
        "def extract_features_by_artist (json_content_artist_lyrics,stop_words,max_features):\n",
        "  artists, lyrics = zip(*extract_artists_lyrics_of_file(json_content_artist_lyrics).items())\n",
        "  lyrics_tfidf_matrix, feature_names = evaluate_tfidf_matrix(stop_words,max_features,lyrics)                             \n",
        "  return zip(artists,lyrics_tfidf_matrix.toarray())\n",
        "\n",
        "def extract_features_by_genre (json_content_artist_lyrics,json_content_artist_genre,stop_words,max_features):\n",
        "  words_per_genre = {}\n",
        "  for artist,lyrics in extract_artists_lyrics_of_file(json_content_artist_lyrics).items(): \n",
        "    genre = extract_genre_by_artist(json_content_artist_genre, artist)\n",
        "    words_per_genre[genre] = lyrics if not genre in words_per_genre else words_per_genre[genre]+\" \"+lyrics\n",
        "  genres, lyrics = zip(*words_per_genre.items())\n",
        "  lyrics_tfidf_matrix, feature_names = evaluate_tfidf_matrix(stop_words,max_features,lyrics)        \n",
        "  return zip(genres,lyrics_tfidf_matrix.toarray())\n",
        "\n",
        "def apply_hierarchical_clustering (json_content_artist_lyrics,stop_words,max_features):\n",
        "  artists, lyrics = zip(*extract_artists_lyrics_of_file(json_content_artist_lyrics).items())\n",
        "  lyrics_tfidf_matrix, feature_names = evaluate_tfidf_matrix(stop_words,max_features,lyrics)                             \n",
        "  clustered = linkage(lyrics_tfidf_matrix.toarray(), method='ward')\n",
        "  plot_dendrogram(clustered, artists)\n",
        "\n",
        "def plot_dendrogram(clustered, artists):\n",
        "  plt.figure(figsize=(10, 25))\n",
        "  plt.title('Hierarchical Clustering Dendrogram')\n",
        "  plt.xlabel('Distance')  \n",
        "  plt.ylabel('Artists')\n",
        "  plt.tight_layout()\n",
        "  dendrogram(clustered,leaf_font_size=8.,labels = artists,orientation = 'left')\n",
        "  plt.show()\n",
        "  \n",
        "def apply_pca (json_content_artist_lyrics,stop_words,max_features):\n",
        "  artists, lyrics = zip(*extract_artists_lyrics_of_file(json_content_artist_lyrics).items())\n",
        "  genre_targets_df = pd.DataFrame ([extract_genre_by_artist(artist_genre,artist) for artist in artists],columns=['target'])\n",
        "  lyrics_tfidf_matrix, feature_names = evaluate_tfidf_matrix(stop_words,max_features,lyrics)   \n",
        "  pca = PCA(n_components=2)\n",
        "  principal_components = pca.fit_transform(lyrics_tfidf_matrix.toarray())\n",
        "  principal_components_df = pd.DataFrame(data = principal_components,columns = ['PC1', 'PC2'])\n",
        "  principal_components_targets_df = pd.concat([principal_components_df, genre_targets_df], axis = 1)\n",
        "  scatter_pca(principal_components_targets_df)\n",
        "  \n",
        "def scatter_pca(dataframe):\n",
        "  fig = plt.figure(figsize = (8,8))\n",
        "  ax = fig.add_subplot(1,1,1) \n",
        "  ax.set_xlabel('PC1', fontsize = 15)\n",
        "  ax.set_ylabel('PC2', fontsize = 15)\n",
        "  ax.set_title('Principle Component Analysis', fontsize = 20)\n",
        "  targets = ['Metal','Hip-Hop','Electronic','R&B','Country','Folk','Pop','Indie','Rock','Jazz']\n",
        "  colors = [\"#c3618c\",\"#b45ac2\",\"#c8ac42\",\"#7178ca\",\"#cb7140\",\"#4bafd0\",\"#d0454e\",\"#52a674\",\"#877f3a\",\"#5ac2bd\"]\n",
        "  for target, color in zip(targets,colors):\n",
        "    indicesToKeep = dataframe['target'] == target\n",
        "    ax.scatter(dataframe.loc[indicesToKeep, 'PC1']\n",
        "                , dataframe.loc[indicesToKeep, 'PC2']\n",
        "                , c = color\n",
        "                , s = 50)\n",
        "  ax.legend(targets)\n",
        "  ax.grid()"
      ],
      "execution_count": 3,
      "outputs": []
    },
    {
      "cell_type": "code",
      "metadata": {
        "id": "wVBaeH8EMHH0"
      },
      "source": [
        "artist_features_collection = extract_features_by_artist(artist_lyrics,load_stopwords_file(\"stopwords.txt\"),20)\n",
        "for artist_features in artist_features_collection: \n",
        "  print(artist_features)"
      ],
      "execution_count": null,
      "outputs": []
    },
    {
      "cell_type": "code",
      "metadata": {
        "id": "6NgM5jMLM2tt"
      },
      "source": [
        "genre_features_collection = extract_features_by_genre(artist_lyrics,artist_genre,load_stopwords_file(\"stopwords.txt\"),20)\n",
        "for genre_features in genre_features_collection: \n",
        "  print(genre_features)"
      ],
      "execution_count": null,
      "outputs": []
    },
    {
      "cell_type": "code",
      "metadata": {
        "id": "MycvQpCkLkm7"
      },
      "source": [
        "apply_hierarchical_clustering(artist_lyrics,load_stopwords_file(\"stopwords.txt\"),20)"
      ],
      "execution_count": null,
      "outputs": []
    },
    {
      "cell_type": "code",
      "metadata": {
        "id": "6q0H7dKrL60x"
      },
      "source": [
        "apply_pca(artist_lyrics,load_stopwords_file(\"stopwords.txt\"),20)"
      ],
      "execution_count": null,
      "outputs": []
    }
  ]
}